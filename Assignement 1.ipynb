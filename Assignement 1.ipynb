{
 "cells": [
  {
   "cell_type": "code",
   "execution_count": 1,
   "id": "e291b179-ef4a-4cdc-9726-1720d52a7749",
   "metadata": {},
   "outputs": [
    {
     "name": "stdout",
     "output_type": "stream",
     "text": [
      "Age: 36\n"
     ]
    }
   ],
   "source": [
    "age =36\n",
    "print(\"Age:\", age)"
   ]
  },
  {
   "cell_type": "code",
   "execution_count": 5,
   "id": "2c28d609-d3f7-4275-b3e1-0f0de84b3c14",
   "metadata": {},
   "outputs": [
    {
     "name": "stdout",
     "output_type": "stream",
     "text": [
      "city: oran country: Algerie\n"
     ]
    }
   ],
   "source": [
    "city= \"oran\"\n",
    "country = \"Algerie\"\n",
    "print(\"city:\", city, \"country:\", country)\n",
    "\n",
    "\n",
    "    "
   ]
  },
  {
   "cell_type": "code",
   "execution_count": 6,
   "id": "f0b7882e-907f-43ec-a1d7-bfaee8b4fd78",
   "metadata": {},
   "outputs": [
    {
     "name": "stdout",
     "output_type": "stream",
     "text": [
      "Location: oran, Algerie\n"
     ]
    }
   ],
   "source": [
    "location = city + \", \" + country\n",
    "print(\"Location:\", location)\n"
   ]
  },
  {
   "cell_type": "code",
   "execution_count": 7,
   "id": "ca323bd9-b678-4db8-a4ab-dda27fd72763",
   "metadata": {},
   "outputs": [
    {
     "name": "stdout",
     "output_type": "stream",
     "text": [
      "Age: 30\n"
     ]
    }
   ],
   "source": [
    "age = 36\n",
    "age = 30  # Changing the value\n",
    "print(\"Age:\", age)"
   ]
  },
  {
   "cell_type": "code",
   "execution_count": 8,
   "id": "61dfa333-de27-4510-a3a0-ba3e907835cc",
   "metadata": {},
   "outputs": [
    {
     "name": "stdout",
     "output_type": "stream",
     "text": [
      "Height: 1.7\n"
     ]
    }
   ],
   "source": [
    "height = 1.70  # Example height in meters\n",
    "print(\"Height:\", height)\n"
   ]
  },
  {
   "cell_type": "code",
   "execution_count": 9,
   "id": "73c2da2b-a7ff-4e09-8318-5a6f2b044d75",
   "metadata": {},
   "outputs": [
    {
     "name": "stdout",
     "output_type": "stream",
     "text": [
      "Data type of height: <class 'float'>\n"
     ]
    }
   ],
   "source": [
    "print(\"Data type of height:\", type(height))\n"
   ]
  },
  {
   "cell_type": "code",
   "execution_count": 10,
   "id": "01283abd-33fb-47e2-bf69-e50417b502cb",
   "metadata": {},
   "outputs": [
    {
     "name": "stdout",
     "output_type": "stream",
     "text": [
      "Is student: True\n"
     ]
    }
   ],
   "source": [
    "is_student = True\n",
    "print(\"Is student:\", is_student)"
   ]
  },
  {
   "cell_type": "code",
   "execution_count": 11,
   "id": "ff9bb5e3-7e2f-4edf-93dd-682ba84dcf0a",
   "metadata": {},
   "outputs": [
    {
     "name": "stdout",
     "output_type": "stream",
     "text": [
      "Full name: SOFIANE  nachi\n"
     ]
    }
   ],
   "source": [
    "name = \"SOFIANE \"\n",
    "surname = 'nachi'\n",
    "full_name = name + \" \" + surname\n",
    "print(\"Full name:\", full_name)"
   ]
  },
  {
   "cell_type": "code",
   "execution_count": 12,
   "id": "788a9c14-ab5a-4673-84b5-479db587a046",
   "metadata": {},
   "outputs": [
    {
     "name": "stdout",
     "output_type": "stream",
     "text": [
      "After swapping: x = 1 , y = 16\n"
     ]
    }
   ],
   "source": [
    "x = 16\n",
    "y = 1\n",
    "x, y = y, x  # Swapping values\n",
    "print(\"After swapping: x =\", x, \", y =\", y)"
   ]
  },
  {
   "cell_type": "code",
   "execution_count": 15,
   "id": "c52ed429-6c55-41d1-9492-32b5a7a0dd05",
   "metadata": {},
   "outputs": [
    {
     "name": "stdout",
     "output_type": "stream",
     "text": [
      "Updated age: 76\n"
     ]
    }
   ],
   "source": [
    "age += 5\n",
    "print(\"Updated age:\", age)"
   ]
  },
  {
   "cell_type": "code",
   "execution_count": 16,
   "id": "eb5286a9-5610-4b81-a19a-6c1603a799b8",
   "metadata": {},
   "outputs": [
    {
     "name": "stdout",
     "output_type": "stream",
     "text": [
      "Area of rectangle: 150\n"
     ]
    }
   ],
   "source": [
    "length = 15\n",
    "width = 10\n",
    "area_rectangle = length * width\n",
    "print(\"Area of rectangle:\", area_rectangle)"
   ]
  },
  {
   "cell_type": "code",
   "execution_count": 17,
   "id": "eec98048-0d13-4d1f-9aca-3cfeafa47161",
   "metadata": {},
   "outputs": [
    {
     "name": "stdout",
     "output_type": "stream",
     "text": [
      "Area of triangle: 20.0\n"
     ]
    }
   ],
   "source": [
    "base = 8\n",
    "height = 5\n",
    "area_triangle = 0.5 * base * height\n",
    "print(\"Area of triangle:\", area_triangle)\n"
   ]
  },
  {
   "cell_type": "code",
   "execution_count": 18,
   "id": "7cee3b12-703c-4247-8b7f-e97eeb4da9ec",
   "metadata": {},
   "outputs": [
    {
     "name": "stdout",
     "output_type": "stream",
     "text": [
      "Message: Hello World\n"
     ]
    }
   ],
   "source": [
    "greeting = \"Hello\"\n",
    "recipient = \"World\"\n",
    "message = greeting + \" \" + recipient\n",
    "print(\"Message:\", message)\n"
   ]
  },
  {
   "cell_type": "code",
   "execution_count": 19,
   "id": "0257f7d8-2325-4199-8203-b5ba88ba4a2b",
   "metadata": {},
   "outputs": [
    {
     "name": "stdout",
     "output_type": "stream",
     "text": [
      "Is active (initial): False\n",
      "Is active (updated): True\n"
     ]
    }
   ],
   "source": [
    "is_active = False\n",
    "print(\"Is active (initial):\", is_active)\n",
    "is_active = True\n",
    "print(\"Is active (updated):\", is_active)"
   ]
  },
  {
   "cell_type": "code",
   "execution_count": 20,
   "id": "40e5ec32-54d6-4999-992f-4c87c9073460",
   "metadata": {},
   "outputs": [
    {
     "name": "stdout",
     "output_type": "stream",
     "text": [
      "My name is SOFIANE and I am 36 years old.\n"
     ]
    }
   ],
   "source": [
    "name = \"SOFIANE\"\n",
    "age = 36\n",
    "print(f\"My name is {name} and I am {age} years old.\")"
   ]
  },
  {
   "cell_type": "code",
   "execution_count": 21,
   "id": "e72eb7d8-61b5-4040-8e5c-17a22978b8d5",
   "metadata": {},
   "outputs": [
    {
     "name": "stdout",
     "output_type": "stream",
     "text": [
      "Value of pi: 3.14\n"
     ]
    }
   ],
   "source": [
    "pi = 3.14159\n",
    "print(f\"Value of pi: {pi:.2f}\")"
   ]
  },
  {
   "cell_type": "code",
   "execution_count": 22,
   "id": "2891722b-070a-452f-bf45-9f1dd66aef33",
   "metadata": {},
   "outputs": [
    {
     "name": "stdout",
     "output_type": "stream",
     "text": [
      "Result of the expression: 16\n"
     ]
    }
   ],
   "source": [
    "result = 2 * (3 + 5)\n",
    "print(\"Result of the expression:\", result)"
   ]
  },
  {
   "cell_type": "code",
   "execution_count": 23,
   "id": "1e6e41c3-f163-47f2-ac3b-30686e8ae44c",
   "metadata": {},
   "outputs": [
    {
     "name": "stdout",
     "output_type": "stream",
     "text": [
      "First 5 characters: Learn\n"
     ]
    }
   ],
   "source": [
    "sentence = \"Learning Python is fun!\"\n",
    "print(\"First 5 characters:\", sentence[:5])"
   ]
  },
  {
   "cell_type": "code",
   "execution_count": 24,
   "id": "6f62cf02-d26b-44d0-9574-32848344e9df",
   "metadata": {},
   "outputs": [
    {
     "name": "stdout",
     "output_type": "stream",
     "text": [
      "Doubled number: 200\n"
     ]
    }
   ],
   "source": [
    "number = 100\n",
    "number *= 2\n",
    "print(\"Doubled number:\", number)"
   ]
  },
  {
   "cell_type": "code",
   "execution_count": 25,
   "id": "1f9e0aa2-9fb0-454d-9d74-c5b0b465935f",
   "metadata": {},
   "outputs": [
    {
     "name": "stdout",
     "output_type": "stream",
     "text": [
      "Average of a, b, and c: 10.0\n"
     ]
    }
   ],
   "source": [
    "a = 5\n",
    "b = 10\n",
    "c = 15\n",
    "average = (a + b + c) / 3\n",
    "print(\"Average of a, b, and c:\", average)"
   ]
  },
  {
   "cell_type": "code",
   "execution_count": null,
   "id": "441c0d3b-370c-44e5-965f-73ef3bf327cb",
   "metadata": {},
   "outputs": [],
   "source": []
  }
 ],
 "metadata": {
  "kernelspec": {
   "display_name": "Python 3 (ipykernel)",
   "language": "python",
   "name": "python3"
  },
  "language_info": {
   "codemirror_mode": {
    "name": "ipython",
    "version": 3
   },
   "file_extension": ".py",
   "mimetype": "text/x-python",
   "name": "python",
   "nbconvert_exporter": "python",
   "pygments_lexer": "ipython3",
   "version": "3.12.7"
  }
 },
 "nbformat": 4,
 "nbformat_minor": 5
}
